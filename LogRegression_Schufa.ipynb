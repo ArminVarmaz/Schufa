{
  "nbformat": 4,
  "nbformat_minor": 0,
  "metadata": {
    "colab": {
      "provenance": [],
      "authorship_tag": "ABX9TyMIupyA1OFuSMUIR6aWjnwF",
      "include_colab_link": true
    },
    "kernelspec": {
      "name": "python3",
      "display_name": "Python 3"
    },
    "language_info": {
      "name": "python"
    }
  },
  "cells": [
    {
      "cell_type": "markdown",
      "metadata": {
        "id": "view-in-github",
        "colab_type": "text"
      },
      "source": [
        "<a href=\"https://colab.research.google.com/github/ArminVarmaz/Schufa/blob/main/LogRegression_Schufa.ipynb\" target=\"_parent\"><img src=\"https://colab.research.google.com/assets/colab-badge.svg\" alt=\"Open In Colab\"/></a>"
      ]
    },
    {
      "cell_type": "markdown",
      "source": [
        "# Untersuchung von SCHUFA - Score-Simulators\n",
        "\n",
        "Diese Datei zeigt die Schritte der Analyse auf und soll die Kommunikation vereinfachen. \n",
        "\n",
        "\n",
        "Es handelt sich um ein Python-Code. Um die Untersuchungen machen zu können, benötigt Python mehrere Bibliotheken, die nachfolgend geladen werden.\n",
        "\n"
      ],
      "metadata": {
        "id": "s7x_GIM16OM-"
      }
    },
    {
      "cell_type": "code",
      "execution_count": 16,
      "metadata": {
        "id": "eoc1XbP56NZc"
      },
      "outputs": [],
      "source": [
        "import pandas as pd\n",
        "import numpy as np\n",
        "import statsmodels.api as sm\n",
        "from statsmodels.tools import add_constant"
      ]
    },
    {
      "cell_type": "markdown",
      "source": [
        "Erste Daten einlesen. Die Daten sind auf einem privaten Github, zu dem ich Euch eingeladen habe."
      ],
      "metadata": {
        "id": "yclLUFmw7CH9"
      }
    },
    {
      "cell_type": "code",
      "source": [
        "# Daten einlesen\n",
        "url='https://github.com/ArminVarmaz/Schufa/blob/main/Data/Choices_komplett.xlsx?raw=true'\n",
        "df = pd.read_excel(url, sheet_name=\"Alle_Permutationen\")"
      ],
      "metadata": {
        "id": "_SzDg7Sm7Cne",
        "colab": {
          "base_uri": "https://localhost:8080/"
        },
        "outputId": "be8a75c0-93af-42e1-86d3-49d067b8337c"
      },
      "execution_count": 17,
      "outputs": [
        {
          "output_type": "stream",
          "name": "stderr",
          "text": [
            "/usr/local/lib/python3.9/dist-packages/openpyxl/worksheet/_reader.py:312: UserWarning: Data Validation extension is not supported and will be removed\n",
            "  warn(msg)\n"
          ]
        }
      ]
    },
    {
      "cell_type": "markdown",
      "source": [
        "Bevor die eigentliche Analyse gemacht werden kann, müssen die Daten umkodiert werden.\n",
        "\n",
        "Ich benutze später die logistische Version, für die wir die Ergebnisse (in unserem Fall die EInstufung durch Schufa) in eine 1 und 0 kodieren müssen. Im Code, der hier nachfolgt, werden die Einstufungen 'Ausreichend' und 'Ungenügend' als 1 festgelegt. Die Ergebnisse der Regression sind daher in diesem Sinne zu interpretieren. Die Interpretation ist dann: \n",
        "* Variablen mit positive Koeffizienten erhöhen die Wahrscheinlichkeit des Ausfalls\n",
        "* Variablen mit negativen Koeffizienten senken die Wahrscheinlichkeit des Ausfalls\n",
        "\n",
        "Im Code könnt Ihr die Einstufung ändern, dann erhalten wir auch andere Ergebnisse.\n"
      ],
      "metadata": {
        "id": "g0I6xtcc7DHw"
      }
    },
    {
      "cell_type": "code",
      "source": [
        "# Ergebnis ersetzenr\n",
        "replace_dict = {'Hervorragend': 0, 'gut': 0, 'Akzeptabel': 0, 'Ausreichend': 1, 'Ungenügend': 1}\n",
        "df['Ergebnis'] = df['Ergebnis'].replace(replace_dict)\n",
        "\n",
        "# Spaltennamen für die neuen Variablen generieren\n",
        "new_cols = []\n",
        "for col in df.columns[1:7]:\n",
        "    for ans in sorted(df[col].unique()):\n",
        "        new_cols.append(col + \"_\" + ans)\n",
        "\n",
        "# Neue Variablen generieren und an das DataFrame anhängen\n",
        "for col in df.columns[1:7]:\n",
        "    for ans in sorted(df[col].unique()):\n",
        "        df[col + \"_\" + ans] = np.where(df[col] == ans, 1, 0)"
      ],
      "metadata": {
        "id": "eQmPY2Oi7Daz"
      },
      "execution_count": 18,
      "outputs": []
    },
    {
      "cell_type": "markdown",
      "source": [
        "Ferer sind auch alle X-Variablen als Dummy-Variablen kodiert. Bei Dummy-Variablen, die wir als X-Variablen nutzen, muss immer eine Basisgruppe definiert werden und alle Ergebnisse sind in Bezug zur jeweiligen Basisgruppe zu interpretieren. Die Basisgruppe wird aus der eigentlichen empirischen Schätzung entfernt. Das sind die Variablen, die hier mit X.drop weggelassen werden. Je nachdem, was die Basisvariable ist, wird die Interpretation der Ergebnisse leicht anders. Zur Interpretation komme ich später. "
      ],
      "metadata": {
        "id": "2a6ZjLiX7Dru"
      }
    },
    {
      "cell_type": "code",
      "source": [
        "# Modell auf Basis der neuen Variablen erstellen\n",
        "X = add_constant(df[new_cols])\n",
        "X = X.drop([\"Kreditkarten_'Keine Kreditkarten'\", \"Ratenkredite_'Keine'\", \"Immobilienkredite_'Nein'\",\n",
        "            \"Online-Käufe auf Rechnung_'0 bis 5 Mal'\", \"Umzug_'Vor weniger als 3 Jahren'\", \"Zahlungsausfälle_'Ja, aber ich habe schon bezahlt'\"],\n",
        "           axis=1)\n",
        "y = df['Ergebnis']"
      ],
      "metadata": {
        "id": "w2O_B7u97EAD"
      },
      "execution_count": 19,
      "outputs": []
    },
    {
      "cell_type": "markdown",
      "source": [
        "Logistische Regression durchführen und Ergebnisse anzeigen:"
      ],
      "metadata": {
        "id": "z4kekXMh7EUW"
      }
    },
    {
      "cell_type": "code",
      "source": [
        "# Logistische Regression mit Statsmodels\n",
        "logit_model = sm.Logit(y, X)\n",
        "result = logit_model.fit(maxiter=1000)\n",
        "\n",
        "# Ergebnisse ausgeben\n",
        "summary = result.summary2()\n",
        "print(summary)"
      ],
      "metadata": {
        "id": "hUKm0Prp7Epd",
        "colab": {
          "base_uri": "https://localhost:8080/"
        },
        "outputId": "b77e7572-fef4-49d9-dd70-eb4423e2a69d"
      },
      "execution_count": 20,
      "outputs": [
        {
          "output_type": "stream",
          "name": "stdout",
          "text": [
            "Warning: Maximum number of iterations has been exceeded.\n",
            "         Current function value: 0.144666\n",
            "         Iterations: 1000\n",
            "                                                 Results: Logit\n",
            "================================================================================================================\n",
            "Model:                               Logit                            Pseudo R-squared:                 0.786   \n",
            "Dependent Variable:                  Ergebnis                         AIC:                              777.9486\n",
            "Date:                                2023-03-29 14:01                 BIC:                              859.9912\n",
            "No. Observations:                    2592                             Log-Likelihood:                   -374.97 \n",
            "Df Model:                            13                               LL-Null:                          -1754.9 \n",
            "Df Residuals:                        2578                             LLR p-value:                      0.0000  \n",
            "Converged:                           0.0000                           Scale:                            1.0000  \n",
            "No. Iterations:                      1000.0000                                                                  \n",
            "----------------------------------------------------------------------------------------------------------------\n",
            "                                                     Coef.    Std.Err.     z     P>|z|     [0.025       0.975]  \n",
            "----------------------------------------------------------------------------------------------------------------\n",
            "const                                                3.3464      0.3735   8.9586 0.0000       2.6143      4.0785\n",
            "Kreditkarten_'1-2 Kreditkarten'                     -1.3525      0.2385  -5.6715 0.0000      -1.8199     -0.8851\n",
            "Kreditkarten_'Mehr als 2 Kreditkarten'              -0.1802      0.2271  -0.7934 0.4275      -0.6252      0.2649\n",
            "Ratenkredite_'1 Ratenkredit'                         0.0000      0.3250   0.0000 1.0000      -0.6370      0.6370\n",
            "Ratenkredite_'2 Ratenkredite'                        0.9812      0.3254   3.0153 0.0026       0.3434      1.6190\n",
            "Ratenkredite_'3 Ratenkredite'                        2.2030      0.3404   6.4724 0.0000       1.5359      2.8701\n",
            "Ratenkredite_'4 Ratenkredite'                        2.8769      0.3547   8.1098 0.0000       2.1816      3.5722\n",
            "Ratenkredite_'Mehr als 4 Ratenkredite'               4.0233      0.3846  10.4614 0.0000       3.2695      4.7770\n",
            "Immobilienkredite_'Ja'                              -2.9045      0.2375 -12.2282 0.0000      -3.3700     -2.4389\n",
            "Online-Käufe auf Rechnung_'Mehr als 5 Mal'           2.4372      0.2236  10.9017 0.0000       1.9990      2.8753\n",
            "Umzug_'Vor 3 bis 10 Jahren'                         -2.6256      0.2722  -9.6439 0.0000      -3.1592     -2.0920\n",
            "Umzug_'Vor mehr als 10 Jahren'                      -4.3786      0.3243 -13.5020 0.0000      -5.0142     -3.7430\n",
            "Zahlungsausfälle_'Ja. Sie sind noch nicht bezahlt.' 33.8165 335058.8364   0.0001 0.9999 -656669.4356 656737.0686\n",
            "Zahlungsausfälle_'Nein'                             -7.3478      0.4006 -18.3420 0.0000      -8.1329     -6.5626\n",
            "================================================================================================================\n",
            "\n"
          ]
        },
        {
          "output_type": "stream",
          "name": "stderr",
          "text": [
            "/usr/local/lib/python3.9/dist-packages/statsmodels/base/model.py:604: ConvergenceWarning: Maximum Likelihood optimization failed to converge. Check mle_retvals\n",
            "  warnings.warn(\"Maximum Likelihood optimization failed to \"\n"
          ]
        }
      ]
    },
    {
      "cell_type": "markdown",
      "source": [
        "Die Ergebnisse der logistischen Regresssion sind im Bezug auf die Wahrscheinlickeit des Ereignisses zu interpretieren. Oben habe ich als Ereignis die Fälle 'ausreichende' und 'ungenügende' Bonität festgelegt. Schauen wir uns die Ergebnisse an:\n",
        "\n",
        "\n",
        "1.   **Variable** Kreditkarten_'1-2 Kreditkarten': Der Koeffizient ist -1.3525, d.h. die Wahrscheinleichkeit des Ereignisses wird gesenkt. Also, wenn eine Person 1-2 Kreditkarte besitzt, wird die Wahrscheinkeit gesenkt, als 'ausreichende' und 'ungenügende' Bonität klassifiziet zu werden ijm Vergleich zu einer Person aus der Basisgruppe (Keine_Kreditkarten)\n",
        "2.   **Variable** Zahlungsausfälle_'Nein': Der Koeffiizent ist -7.3478, d.h. die Wahrscheinleichkeit des Ereignisses wird hier auch gesenkt (im Vergleich zur Basisgruppe). \n",
        "3.   **Variable** Online-Käufe auf Rechnung_'Mehr als 5 Mal': Der Koeffizient ist 2.4372, d.h. die Wahrscheinlicht des Ereignisses wird für diese Person erhöht (im Vergleich zur Basisgruppe).\n",
        "\n",
        "\n",
        "\n",
        "\n",
        "Relative Bedeutung der Variablen bestimmen. Die insignifikanten Variablen werden entfernt.\n",
        "\n",
        "Insgesamt sind die Zahlungsausfälle sehr wichtig!\n",
        "\n",
        "Als nächstes bestimmen wir die Odds und die relativen Anteile:\n"
      ],
      "metadata": {
        "id": "lD7HEcd995f_"
      }
    },
    {
      "cell_type": "code",
      "source": [
        "# Spalten aus X auswählen, die signifikant sind\n",
        "sig_cols = result.pvalues[result.pvalues < 0.05].index\n",
        "X_sig = X[sig_cols]\n",
        "\n",
        "# Relative Bedeutung der signifikanten Variablen berechnen\n",
        "odds = np.exp(result.params[sig_cols])\n",
        "rel_importance = odds / np.exp(result.params[sig_cols]).sum()\n",
        "\n",
        "# Formatierung der relativen Anteile\n",
        "odds_formatted = odds.map(lambda x: '{:.2}'.format(x))\n",
        "rel_importance_formatted = rel_importance.map(lambda x: '{:.2%}'.format(x))\n",
        "\n",
        "print(\"\\n\\nOdds: \\n\\n\")\n",
        "print(odds_formatted)\n",
        "print(\"\\n\\nRelative Anteile: \\n\\n\")\n",
        "print(rel_importance_formatted)\n"
      ],
      "metadata": {
        "colab": {
          "base_uri": "https://localhost:8080/"
        },
        "id": "KZ0cV9PN991q",
        "outputId": "8af48c27-23ae-4d17-db81-312e38f32433"
      },
      "execution_count": 28,
      "outputs": [
        {
          "output_type": "stream",
          "name": "stdout",
          "text": [
            "\n",
            "\n",
            "Odds: \n",
            "\n",
            "\n",
            "const                                         2.8e+01\n",
            "Kreditkarten_'1-2 Kreditkarten'                  0.26\n",
            "Ratenkredite_'2 Ratenkredite'                     2.7\n",
            "Ratenkredite_'3 Ratenkredite'                     9.1\n",
            "Ratenkredite_'4 Ratenkredite'                 1.8e+01\n",
            "Ratenkredite_'Mehr als 4 Ratenkredite'        5.6e+01\n",
            "Immobilienkredite_'Ja'                          0.055\n",
            "Online-Käufe auf Rechnung_'Mehr als 5 Mal'    1.1e+01\n",
            "Umzug_'Vor 3 bis 10 Jahren'                     0.072\n",
            "Umzug_'Vor mehr als 10 Jahren'                  0.013\n",
            "Zahlungsausfälle_'Nein'                       0.00064\n",
            "dtype: object\n",
            "\n",
            "\n",
            "Relative Anteile: \n",
            "\n",
            "\n",
            "const                                         22.61%\n",
            "Kreditkarten_'1-2 Kreditkarten'                0.21%\n",
            "Ratenkredite_'2 Ratenkredite'                  2.12%\n",
            "Ratenkredite_'3 Ratenkredite'                  7.21%\n",
            "Ratenkredite_'4 Ratenkredite'                 14.14%\n",
            "Ratenkredite_'Mehr als 4 Ratenkredite'        44.49%\n",
            "Immobilienkredite_'Ja'                         0.04%\n",
            "Online-Käufe auf Rechnung_'Mehr als 5 Mal'     9.11%\n",
            "Umzug_'Vor 3 bis 10 Jahren'                    0.06%\n",
            "Umzug_'Vor mehr als 10 Jahren'                 0.01%\n",
            "Zahlungsausfälle_'Nein'                        0.00%\n",
            "dtype: object\n"
          ]
        }
      ]
    },
    {
      "cell_type": "markdown",
      "source": [
        "Die Odds-Verhältnisse geben das Verhältnis der Chancen (Odds) an, dass das Ereignis in der Kategorie der einen Variable gegenüber der Kategorie der anderen Variable auftritt. Ein Odds-Verhältnis größer als 1 deutet darauf hin, dass die Chancen, dass das Ereignis in der einen Kategorie auftritt, größer sind als in der anderen Kategorie. Ein Odds-Verhältnis kleiner als 1 deutet darauf hin, dass die Chancen, dass das Ereignis in der einen Kategorie auftritt, kleiner sind als in der anderen Kategorie.\n",
        "\n",
        "Im Beispiel bedeutet beispielsweise ein Odds-Verhältnis von 0.26 für die Variable \"Kreditkarten_'1-2 Kreditkarten'\", dass die Chancen, dass das Ereignis in der Kategorie \"1-2 Kreditkarten\" auftritt, etwa ein Viertel so groß sind wie in der Vergleichskategorie. Ein Odds-Verhältnis von 9.1 für die Variable \"Ratenkredite_'3 Ratenkredite'\" bedeutet, dass die Chancen, dass das Ereignis in der Kategorie \"3 Ratenkredite\" auftritt, etwa neunmal höher sind als in der Vergleichskategorie.\n",
        "\n",
        "Die relativen Anteile sind die Gewichtungen der Variablen, wenn das definierte Ereignis auftritt. Also, wenn eine Person 'Mehr als 4 Ratenkredite' hat, dann trägt es schon 44.5% zum negativen Rating bei.\n",
        "\n"
      ],
      "metadata": {
        "id": "pKUMCsdAwGCv"
      }
    }
  ]
}